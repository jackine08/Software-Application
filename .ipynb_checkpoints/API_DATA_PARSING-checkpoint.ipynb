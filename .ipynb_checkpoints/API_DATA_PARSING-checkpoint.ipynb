{
 "cells": [
  {
   "cell_type": "code",
   "execution_count": 1,
   "id": "298ac32c",
   "metadata": {},
   "outputs": [],
   "source": [
    "# 라이브러리 import\n",
    "import requests\n",
    "import pprint\n",
    "import json\n",
    "import pandas as pd\n",
    "\n",
    "# url 입력\n",
    "url = 'http://www.khoa.go.kr/api/oceangrid/tideObsAirTemp/search.do?'\n",
    "ServiceKey = 'ServiceKey=SQWBYdS0x/t/3jV/vahmAA==&'\n",
    "ObsCode = 'ObsCode=DT_0001&'\n",
    "Date = 'Date=20160803&'\n",
    "ResultType = 'ResultType=json'\n",
    "\n",
    "# request_url = url+ServiceKey+ObsCode+Date+ResultType"
   ]
  },
  {
   "cell_type": "code",
   "execution_count": 2,
   "id": "b2917c2c",
   "metadata": {},
   "outputs": [],
   "source": [
    "Date_month = 'Date=201608'"
   ]
  },
  {
   "cell_type": "code",
   "execution_count": 5,
   "id": "c71fd3cb",
   "metadata": {},
   "outputs": [],
   "source": [
    "csv_save = pd.DataFrame()"
   ]
  },
  {
   "cell_type": "code",
   "execution_count": 13,
   "id": "6772773e",
   "metadata": {},
   "outputs": [
    {
     "name": "stdout",
     "output_type": "stream",
     "text": [
      "1 th done\n",
      "\n",
      "2 th done\n",
      "\n",
      "3 th done\n",
      "\n",
      "4 th done\n",
      "\n",
      "5 th done\n",
      "\n",
      "6 th done\n",
      "\n",
      "7 th done\n",
      "\n",
      "8 th done\n",
      "\n",
      "9 th done\n",
      "\n",
      "10 th done\n",
      "\n",
      "11 th done\n",
      "\n",
      "12 th done\n",
      "\n",
      "13 th done\n",
      "\n",
      "14 th done\n",
      "\n",
      "15 th done\n",
      "\n",
      "16 th done\n",
      "\n",
      "17 th done\n",
      "\n",
      "18 th done\n",
      "\n",
      "19 th done\n",
      "\n",
      "20 th done\n",
      "\n",
      "21 th done\n",
      "\n",
      "22 th done\n",
      "\n",
      "23 th done\n",
      "\n",
      "24 th done\n",
      "\n",
      "25 th done\n",
      "\n",
      "26 th done\n",
      "\n",
      "27 th done\n",
      "\n",
      "28 th done\n",
      "\n",
      "29 th done\n",
      "\n",
      "30 th done\n",
      "\n"
     ]
    }
   ],
   "source": [
    "for i in range(1,31):\n",
    "    \n",
    "    Date = Date_month+str(i).zfill(2)+'&'\n",
    "    request_url = url+ServiceKey+ObsCode+Date+ResultType\n",
    "    \n",
    "    response = requests.get(request_url)\n",
    "    contents = json.loads(response.text)\n",
    "    contents = contents['result']['data']\n",
    "    df = pd.json_normalize(contents)\n",
    "    csv_save = pd.concat([csv_save,df],ignore_index=True)\n",
    "    print(i,\"th done\\n\")\n",
    "csv_save.to_csv(\"air_DT0001_201608.csv\")"
   ]
  },
  {
   "cell_type": "code",
   "execution_count": 11,
   "id": "3721e057",
   "metadata": {
    "scrolled": true
   },
   "outputs": [
    {
     "name": "stdout",
     "output_type": "stream",
     "text": [
      "              record_time air_temp\n",
      "0     2016-08-01 00:02:00     24.3\n",
      "1     2016-08-01 00:05:00     24.3\n",
      "2     2016-08-01 00:06:00     24.3\n",
      "3     2016-08-01 00:07:00     24.3\n",
      "4     2016-08-01 00:08:00     24.3\n",
      "...                   ...      ...\n",
      "1431  2016-08-02 23:55:00     24.4\n",
      "1432  2016-08-02 23:56:00     24.4\n",
      "1433  2016-08-02 23:57:00     24.4\n",
      "1434  2016-08-02 23:58:00     24.5\n",
      "1435  2016-08-02 23:59:00     24.5\n",
      "\n",
      "[2870 rows x 2 columns]\n"
     ]
    }
   ],
   "source": [
    "print(csv_save)"
   ]
  }
 ],
 "metadata": {
  "kernelspec": {
   "display_name": "Python 3 (ipykernel)",
   "language": "python",
   "name": "python3"
  },
  "language_info": {
   "codemirror_mode": {
    "name": "ipython",
    "version": 3
   },
   "file_extension": ".py",
   "mimetype": "text/x-python",
   "name": "python",
   "nbconvert_exporter": "python",
   "pygments_lexer": "ipython3",
   "version": "3.9.7"
  }
 },
 "nbformat": 4,
 "nbformat_minor": 5
}
