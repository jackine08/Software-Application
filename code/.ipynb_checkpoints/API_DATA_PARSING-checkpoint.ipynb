{
 "cells": [
  {
   "cell_type": "code",
   "execution_count": 1,
   "id": "298ac32c",
   "metadata": {},
   "outputs": [],
   "source": [
    "# 라이브러리 import\n",
    "import requests\n",
    "import pprint\n",
    "import json\n",
    "import pandas as pd\n",
    "\n",
    "# request_url = url+ServiceKey+ObsCode+Date+ResultType"
   ]
  },
  {
   "cell_type": "code",
   "execution_count": 2,
   "id": "3150b128",
   "metadata": {},
   "outputs": [],
   "source": [
    "# [DataType, d_name]\n",
    "wtemp = ['tidalBuTemp', 'water_temp']\n",
    "wave = ['obsWaveHight', 'wave_height']\n",
    "atemp = ['tidalBuAirTemp', 'air_temp']\n",
    "wind = ['tidalBuWind', 'wind_speed']"
   ]
  },
  {
   "cell_type": "code",
   "execution_count": 3,
   "id": "4017be1f",
   "metadata": {},
   "outputs": [],
   "source": [
    "def get_request_url(DataType, ObsCode, Date):\n",
    "    ServiceKey = 'ServiceKey=SQWBYdS0x/t/3jV/vahmAA==&'\n",
    "    ResultType = 'ResultType=json'\n",
    "    return 'http://www.khoa.go.kr/api/oceangrid/' + DataType + '/search.do?' + ServiceKey + 'ObsCode='+ObsCode + '&' + 'Date=' + Date + '&' + ResultType"
   ]
  },
  {
   "cell_type": "code",
   "execution_count": 4,
   "id": "15c7c2d5",
   "metadata": {},
   "outputs": [],
   "source": [
    "def get_API_parsed_data(url, d_name):\n",
    "    \n",
    "    response = requests.get(url)\n",
    "    contents = json.loads(response.text)\n",
    "    contents = contents['result']['data']\n",
    "    contents = contents[int(len(contents)/2)][d_name]\n",
    "    \n",
    "    return contents"
   ]
  },
  {
   "cell_type": "code",
   "execution_count": 19,
   "id": "6b058e61",
   "metadata": {},
   "outputs": [],
   "source": [
    "def update_API_DATA(Date):\n",
    "    df = pd.read_csv(\"최종 원기옥.csv\")\n",
    "    \n",
    "    for i in range(146,df.shape[0]):\n",
    "        print(df[\"해수욕장명\"][i])\n",
    "        df['wtemp'][i] = get_API_parsed_data(get_request_url(wtemp[0], df['obs_wtemp'][i], Date),wtemp[1])\n",
    "        df['wave'][i] = get_API_parsed_data(get_request_url(wave[0], df['obs_wave'][i],Date),wave[1])\n",
    "        df['atemp'][i] = get_API_parsed_data(get_request_url(atemp[0], df['obs_air'][i],Date), atemp[1])\n",
    "        df['wind'][i] = get_API_parsed_data(get_request_url(wind[0], df['obs_air'][i],Date), wind[1])\n",
    "\n",
    "        df.to_csv(\"최종 원기옥.csv\")"
   ]
  },
  {
   "cell_type": "code",
   "execution_count": null,
   "id": "bb41155d",
   "metadata": {
    "scrolled": true
   },
   "outputs": [],
   "source": [
    "# 경북 기성망양부터 다시\n",
    "update_API_DATA(\"20221107\")"
   ]
  },
  {
   "cell_type": "code",
   "execution_count": null,
   "id": "1d18048f",
   "metadata": {},
   "outputs": [],
   "source": []
  }
 ],
 "metadata": {
  "kernelspec": {
   "display_name": "Python 3 (ipykernel)",
   "language": "python",
   "name": "python3"
  },
  "language_info": {
   "codemirror_mode": {
    "name": "ipython",
    "version": 3
   },
   "file_extension": ".py",
   "mimetype": "text/x-python",
   "name": "python",
   "nbconvert_exporter": "python",
   "pygments_lexer": "ipython3",
   "version": "3.9.7"
  }
 },
 "nbformat": 4,
 "nbformat_minor": 5
}
