{
 "cells": [
  {
   "cell_type": "code",
   "execution_count": 3,
   "id": "0907b0f8",
   "metadata": {},
   "outputs": [],
   "source": [
    "# library import\n",
    "import requests\n",
    "import pprint\n",
    "import json\n",
    "import pandas as pd\n",
    "from haversine import haversine"
   ]
  },
  {
   "cell_type": "code",
   "execution_count": 38,
   "id": "87962141",
   "metadata": {},
   "outputs": [],
   "source": [
    "#load data\n",
    "marine_df = pd.read_csv(\"marine_info.csv\", encoding='cp949')\n",
    "marine_df = marine_df.drop(['관리청','길이(m)','너비(m)'],axis=1)\n",
    "\n",
    "camp_df = pd.read_csv(\"camp_info.csv\", encoding='cp949')\n",
    "parsed_camp_df = camp_df[camp_df['영업상태명']=='영업/정상']\n",
    "\n",
    "beach_code = pd.read_csv(\"beach_code.csv\")\n",
    "\n",
    "obs_wtemp = pd.read_csv(\"obs_wtemp.csv\")\n",
    "obs_air = pd.read_csv(\"obs_air.csv\")\n",
    "obs_wave = pd.read_csv(\"obs_wave.csv\")\n"
   ]
  },
  {
   "cell_type": "code",
   "execution_count": 57,
   "id": "58d6d6bf",
   "metadata": {
    "scrolled": false
   },
   "outputs": [
    {
     "name": "stdout",
     "output_type": "stream",
     "text": [
      "    연번   시_도  시군구  해수욕장명  2022이용객(명)  2021이용객(명)  2020이용객(명)  2019이용객(명)  \\\n",
      "0    1  충청남도  당진시    난지섬        6910        7728        8584        6235   \n",
      "1    2  충청남도  당진시   왜목마을       94156      104048       55252       73414   \n",
      "2    3  충청남도  보령시     대천     4838800     2811030     2945100     6630000   \n",
      "3    4  충청남도  보령시    무창포      279863      326126      240860      165400   \n",
      "4    5  충청남도  서천군    춘장대      188672      170063      371752      278000   \n",
      "5    6  충청남도  태안군    갈음이        9360        8100       21935       41385   \n",
      "6    7  충청남도  태안군     곰섬        7085        6200       18605       24880   \n",
      "7    8  충청남도  태안군    구례포       12140       11165       25180       39295   \n",
      "8    9  충청남도  태안군    구름포        6560        5380       21655       38705   \n",
      "9   10  충청남도  태안군    기지포       14550       13590       32635       46935   \n",
      "10  11  충청남도  태안군     꽂지      291310      207000      156700      258090   \n",
      "11  12  충청남도  태안군  꾸지나무골        9465        8695       19760       36400   \n",
      "12  13  충청남도  태안군    달산포       10382        9095       33750       37770   \n",
      "13  14  충청남도  태안군    마검포       13325       12230       28545       37885   \n",
      "14  15  충청남도  태안군    만리포      497435      427950      361630      546350   \n",
      "15  16  충청남도  태안군    몽산포      243170      168390      181430      203180   \n",
      "16  17  충청남도  태안군   바람아래        6725        6395       24280       33660   \n",
      "17  18  충청남도  태안군     밧개       17115       15705       36635       38325   \n",
      "18  19  충청남도  태안군    방주골        5390        4755       21975       33115   \n",
      "19  20  충청남도  태안군     방포       17600       17370       32910       45350   \n",
      "20  21  충청남도  태안군    백사장       13630       11050       27210       48892   \n",
      "21  22  충청남도  태안군     삼봉       44210       33721       61400      114905   \n",
      "22  23  충청남도  태안군     샛별       17472       14625       25940       37945   \n",
      "23  24  충청남도  태안군    신두리       39030       32860       65730       90920   \n",
      "24  25  충청남도  태안군     안면       17060       15065       29275       39115   \n",
      "25  26  충청남도  태안군    어은돌       21910       20450       22235       34560   \n",
      "26  27  충청남도  태안군     연포       24625       17828       50660       81530   \n",
      "27  28  충청남도  태안군     의항        8361        7765       23810       35565   \n",
      "28  29  충청남도  태안군    장삼포       10785        9520       21255       35000   \n",
      "29  30  충청남도  태안군    천리포       30255       24400       44385       68710   \n",
      "30  31  충청남도  태안군    청포대       23920       20560       46685       61073   \n",
      "31  32  충청남도  태안군    파도리       14080       10950       26795       35900   \n",
      "32  33  충청남도  태안군    학암포       31990       21410       52570       71910   \n",
      "\n",
      "    2018이용객(명)  2017이용객(명)  2016이용객(명)  2015이용객(명)  \n",
      "0         7565       12767       14757       18444  \n",
      "1        43989      171090      116183       71483  \n",
      "2      9491826    13507283    12477000     9113800  \n",
      "3       165600      941900     1054400     1019840  \n",
      "4       821000     1613100     1952450     2175550  \n",
      "5        33850       34135       68190       27250  \n",
      "6        30535       31260       53250       29940  \n",
      "7          120       32130       56240       39805  \n",
      "8          110       36000       58250       43840  \n",
      "9          350       37135       68590       50830  \n",
      "10      215622      186280      260300      200285  \n",
      "11       32085       32085       40420       20970  \n",
      "12       46103       34450       63610       40250  \n",
      "13       53450       34870       73630       51850  \n",
      "14      386740      387420      416100      356700  \n",
      "15      202283      183030      203150      220670  \n",
      "16       34168       33575       51670       17260  \n",
      "17       46348       30335       65910       42800  \n",
      "18       37292       29965       43500       38410  \n",
      "19       65548       36885       76320       83440  \n",
      "20       61063       38080       80970       64140  \n",
      "21      100241       54070      104612      142041  \n",
      "22       47050       34270       66950       39930  \n",
      "23       98945       68255      127790      100790  \n",
      "24       50328       32635       69540       48810  \n",
      "25       41263       34730       59520       29540  \n",
      "26       78450       53570       97110       84670  \n",
      "27       39617       31070       47640       40140  \n",
      "28       34103       29910       52600       19800  \n",
      "29       87793       50820      115430       97130  \n",
      "30       78975       50005       92230       94690  \n",
      "31       37602       33205       51890       27710  \n",
      "32       66977       55910       74050       70970  \n"
     ]
    }
   ],
   "source": [
    "marine_facility_kangwon = pd.read_csv(\"해수욕장시설물_충남.csv\", encoding='cp949')"
   ]
  },
  {
   "cell_type": "code",
   "execution_count": 23,
   "id": "6b9711f0",
   "metadata": {},
   "outputs": [],
   "source": [
    "pd.set_option('display.max_rows', None)\n",
    "pd.set_option('display.max_columns', None)"
   ]
  },
  {
   "cell_type": "code",
   "execution_count": 24,
   "id": "917bfbc4",
   "metadata": {},
   "outputs": [],
   "source": [
    "def get_camp_num(name):\n",
    "    return parsed_camp_df[parsed_camp_df['사업장명'].str.contains(name)].shape[0]"
   ]
  },
  {
   "cell_type": "code",
   "execution_count": 25,
   "id": "9be3ef8f",
   "metadata": {},
   "outputs": [],
   "source": [
    "def get_beach_info(name):\n",
    "    temp = beach_code[beach_code['관측소 명'].str.contains(name)]\n",
    "    if(temp.shape[0]==0):\n",
    "        return [0,0,0,0]\n",
    "    else:\n",
    "        return temp.iloc[0]"
   ]
  },
  {
   "cell_type": "code",
   "execution_count": 26,
   "id": "532e4ef4",
   "metadata": {},
   "outputs": [],
   "source": [
    "def get_beach_data(code):\n",
    "    url = 'http://www.khoa.go.kr/api/oceangrid/beach/search.do?'\n",
    "    ServiceKey = 'ServiceKey=SQWBYdS0x/t/3jV/vahmAA==&'\n",
    "    BeachCode = \"BeachCode=\" + str(code) + \"&\"\n",
    "    ResultType = 'ResultType=json'\n",
    "    request_url = url+ServiceKey+BeachCode+ResultType\n",
    "    \n",
    "    response = requests.get(request_url)\n",
    "    contents = json.loads(response.text)\n",
    "    \n",
    "    return contents"
   ]
  },
  {
   "cell_type": "code",
   "execution_count": 32,
   "id": "abad51c7",
   "metadata": {},
   "outputs": [],
   "source": [
    "def get_nearest_obs(x,y,df):\n",
    "    ans = df.iloc[0][0]\n",
    "    shortest = haversine((x,y),(df.iloc[0][2], df.iloc[0][3]))\n",
    "    for i in range(1, df.shape[0]):\n",
    "        temp = haversine((x,y), (df.iloc[i][2],df.iloc[i][3]))\n",
    "        if(temp<shortest):\n",
    "            ans = df.iloc[i][0]\n",
    "            shortest = temp\n",
    "    return ans"
   ]
  },
  {
   "cell_type": "code",
   "execution_count": 20,
   "id": "1982991a",
   "metadata": {},
   "outputs": [],
   "source": [
    "csv_save = marine_df.copy()"
   ]
  },
  {
   "cell_type": "code",
   "execution_count": 21,
   "id": "3a57394c",
   "metadata": {},
   "outputs": [],
   "source": [
    "csv_save['camp_num'] = 'a'\n",
    "csv_save['beach_code'] = 'a'\n",
    "csv_save['latitude'] = 0.001\n",
    "csv_save['longitude'] = 0.001\n",
    "csv_save['obs_wtemp'] = 'a'\n",
    "csv_save['obs_wave'] = 'a'\n",
    "csv_save['obs_air'] = 'a'\n",
    "csv_save['wtemp'] = 0\n",
    "csv_save['wave'] = 0\n",
    "csv_save['atemp'] = 0\n",
    "csv_save['wind'] = 0"
   ]
  },
  {
   "cell_type": "code",
   "execution_count": 34,
   "id": "5dd31562",
   "metadata": {
    "scrolled": false
   },
   "outputs": [
    {
     "name": "stderr",
     "output_type": "stream",
     "text": [
      "/var/folders/kk/y4fp8d3s29b997z_9cg0x3nw0000gn/T/ipykernel_98578/2947456587.py:2: SettingWithCopyWarning: \n",
      "A value is trying to be set on a copy of a slice from a DataFrame\n",
      "\n",
      "See the caveats in the documentation: https://pandas.pydata.org/pandas-docs/stable/user_guide/indexing.html#returning-a-view-versus-a-copy\n",
      "  csv_save['camp_num'][i] = get_camp_num(csv_save['해수욕장명'][i].strip())\n",
      "/var/folders/kk/y4fp8d3s29b997z_9cg0x3nw0000gn/T/ipykernel_98578/2947456587.py:4: SettingWithCopyWarning: \n",
      "A value is trying to be set on a copy of a slice from a DataFrame\n",
      "\n",
      "See the caveats in the documentation: https://pandas.pydata.org/pandas-docs/stable/user_guide/indexing.html#returning-a-view-versus-a-copy\n",
      "  csv_save['beach_code'][i] = temp[0]\n",
      "/var/folders/kk/y4fp8d3s29b997z_9cg0x3nw0000gn/T/ipykernel_98578/2947456587.py:5: SettingWithCopyWarning: \n",
      "A value is trying to be set on a copy of a slice from a DataFrame\n",
      "\n",
      "See the caveats in the documentation: https://pandas.pydata.org/pandas-docs/stable/user_guide/indexing.html#returning-a-view-versus-a-copy\n",
      "  csv_save['latitude'][i] = temp[2]\n",
      "/var/folders/kk/y4fp8d3s29b997z_9cg0x3nw0000gn/T/ipykernel_98578/2947456587.py:6: SettingWithCopyWarning: \n",
      "A value is trying to be set on a copy of a slice from a DataFrame\n",
      "\n",
      "See the caveats in the documentation: https://pandas.pydata.org/pandas-docs/stable/user_guide/indexing.html#returning-a-view-versus-a-copy\n",
      "  csv_save['longitude'][i] = temp[3]\n",
      "/var/folders/kk/y4fp8d3s29b997z_9cg0x3nw0000gn/T/ipykernel_98578/2947456587.py:7: SettingWithCopyWarning: \n",
      "A value is trying to be set on a copy of a slice from a DataFrame\n",
      "\n",
      "See the caveats in the documentation: https://pandas.pydata.org/pandas-docs/stable/user_guide/indexing.html#returning-a-view-versus-a-copy\n",
      "  csv_save['obs_wtemp'][i] = get_nearest_obs(temp[2],temp[3], obs_wtemp)\n",
      "/var/folders/kk/y4fp8d3s29b997z_9cg0x3nw0000gn/T/ipykernel_98578/2947456587.py:8: SettingWithCopyWarning: \n",
      "A value is trying to be set on a copy of a slice from a DataFrame\n",
      "\n",
      "See the caveats in the documentation: https://pandas.pydata.org/pandas-docs/stable/user_guide/indexing.html#returning-a-view-versus-a-copy\n",
      "  csv_save['obs_wave'][i] = get_nearest_obs(temp[2],temp[3], obs_wave)\n",
      "/var/folders/kk/y4fp8d3s29b997z_9cg0x3nw0000gn/T/ipykernel_98578/2947456587.py:9: SettingWithCopyWarning: \n",
      "A value is trying to be set on a copy of a slice from a DataFrame\n",
      "\n",
      "See the caveats in the documentation: https://pandas.pydata.org/pandas-docs/stable/user_guide/indexing.html#returning-a-view-versus-a-copy\n",
      "  csv_save['obs_air'][i] = get_nearest_obs(temp[2],temp[3], obs_air)\n",
      "/var/folders/kk/y4fp8d3s29b997z_9cg0x3nw0000gn/T/ipykernel_98578/160307280.py:2: UserWarning: This pattern has match groups. To actually get the groups, use str.extract.\n",
      "  return parsed_camp_df[parsed_camp_df['사업장명'].str.contains(name)].shape[0]\n"
     ]
    }
   ],
   "source": [
    "for i in range(csv_save.shape[0]):\n",
    "    csv_save['camp_num'][i] = get_camp_num(csv_save['해수욕장명'][i].strip())\n",
    "    temp = get_beach_info(csv_save['해수욕장명'][i].strip())\n",
    "    csv_save['beach_code'][i] = temp[0]\n",
    "    csv_save['latitude'][i] = temp[2]\n",
    "    csv_save['longitude'][i] = temp[3]\n",
    "    csv_save['obs_wtemp'][i] = get_nearest_obs(temp[2],temp[3], obs_wtemp)\n",
    "    csv_save['obs_wave'][i] = get_nearest_obs(temp[2],temp[3], obs_wave)\n",
    "    csv_save['obs_air'][i] = get_nearest_obs(temp[2],temp[3], obs_air)"
   ]
  },
  {
   "cell_type": "code",
   "execution_count": 33,
   "id": "1b73e482",
   "metadata": {},
   "outputs": [],
   "source": [
    "csv_save.to_csv(\"new_data.csv\")"
   ]
  },
  {
   "cell_type": "code",
   "execution_count": null,
   "id": "2b82882f",
   "metadata": {},
   "outputs": [],
   "source": []
  }
 ],
 "metadata": {
  "kernelspec": {
   "display_name": "Python 3 (ipykernel)",
   "language": "python",
   "name": "python3"
  },
  "language_info": {
   "codemirror_mode": {
    "name": "ipython",
    "version": 3
   },
   "file_extension": ".py",
   "mimetype": "text/x-python",
   "name": "python",
   "nbconvert_exporter": "python",
   "pygments_lexer": "ipython3",
   "version": "3.9.7"
  }
 },
 "nbformat": 4,
 "nbformat_minor": 5
}
