{
 "cells": [
  {
   "cell_type": "code",
   "execution_count": 13,
   "id": "8526e8d9",
   "metadata": {},
   "outputs": [],
   "source": [
    "def get_score(wave, wind, wtemp, temp):\n",
    "    a=float(0.0)\n",
    "    b=float(0.0)\n",
    "    c=float(0.0)\n",
    "    d=float(0.0)\n",
    "    rflag = True\n",
    "    if (wave < 0.5):\n",
    "        a = 5;\n",
    "    elif (wave < 1):\n",
    "        a = 4;\n",
    "    elif (wave < 1.5):\n",
    "        a = 3;\n",
    "    elif (wave < 2):\n",
    "        a = 2;\n",
    "    else:\n",
    "        a = 1;\n",
    "\n",
    "        \n",
    "    if (wind < 2):\n",
    "        b = 5;\n",
    "    elif (wind < 5):\n",
    "        b = 4;\n",
    "    elif (wind < 8):\n",
    "        b = 3;\n",
    "    elif (wind < 10):\n",
    "        b = 2;\n",
    "    else:\n",
    "        b = 1;\n",
    "    if (wtemp >= 22):\n",
    "        c = 5;\n",
    "    elif (wtemp >= 20):\n",
    "        c = 4;\n",
    "    elif (wtemp >= 18):\n",
    "        c = 3;\n",
    "    elif (wtemp >= 14):\n",
    "        c = 2;\n",
    "        if (wtemp < 16):\n",
    "            rflag = False;\n",
    "    else:\n",
    "        rflag = False;\n",
    "        c = 1;\n",
    "        \n",
    "    if (temp >= 27):\n",
    "        d = 5;\n",
    "    elif (temp >= 24):\n",
    "        d = 4;\n",
    "    elif (temp >= 22):\n",
    "        d = 3;\n",
    "    elif (temp >= 20):\n",
    "        d = 2;\n",
    "    else:\n",
    "        d = 1;\n",
    "        \n",
    "    a/=2\n",
    "    b/=2\n",
    "    c/=2\n",
    "    d/=2\n",
    "    \n",
    "    # edit weight\n",
    "    if (rflag):\n",
    "        return float((a * 2.2 + b * 1.2 + c * 0.4 + d * 0.2)/float(1.9));\n",
    "    else:\n",
    "        return float((a * 1.8 + b * 1.0 + c * 1.0 + d * 0.2)/float(1.9));\n"
   ]
  },
  {
   "cell_type": "code",
   "execution_count": 2,
   "id": "38f6d977",
   "metadata": {},
   "outputs": [],
   "source": [
    "import pandas as pd"
   ]
  },
  {
   "cell_type": "code",
   "execution_count": 3,
   "id": "90884a47",
   "metadata": {},
   "outputs": [],
   "source": [
    "data = pd.read_csv(\"최종 원기옥.csv\")"
   ]
  },
  {
   "cell_type": "code",
   "execution_count": 25,
   "id": "3a631db0",
   "metadata": {},
   "outputs": [],
   "source": [
    "data = data.drop(['score'], axis=1)"
   ]
  },
  {
   "cell_type": "code",
   "execution_count": 26,
   "id": "79576382",
   "metadata": {},
   "outputs": [
    {
     "name": "stdout",
     "output_type": "stream",
     "text": [
      "     Unnamed: 0    지자체  해수욕장명  백사장면적(m2)  camp_num beach_code  latitude  \\\n",
      "0             0    강원도     강문    16,200          1     BCH126    37.794   \n",
      "1             1    강원도    경포대   126,000          0     BCH031    37.803   \n",
      "2             2    강원도     금진    37,400          1     BCH138    37.639   \n",
      "3             3   강원도    남항진     16,450          0     BCH134    37.764   \n",
      "4             4   강원도     도직     18,480          0     BCH139    37.602   \n",
      "..          ...    ...    ...        ...       ...        ...       ...   \n",
      "272         272   충청남도    장삼포    41,000          0     BCH257    36.422   \n",
      "273         273   충청남도    천리포    22,500          0     BCH055    36.803   \n",
      "274         274   충청남도    청포대    25,800          4     BCH258    36.639   \n",
      "275         275   충청남도    파도리    20,100          1     BCH262    36.739   \n",
      "276         276   충청남도    학암포    44,100          2     BCH053    36.898   \n",
      "\n",
      "     longitude obs_wtemp obs_wave  obs_air  wtemp  wave  atemp  wind toilet  \\\n",
      "0      128.918   TW_0089  TW_0094  TW_0094  16.38  0.41  15.14   3.5      2   \n",
      "1      128.910   TW_0089  TW_0094  TW_0094  16.38  0.41  15.14   3.5      4   \n",
      "2      129.044   TW_0094  TW_0094  TW_0094  16.63  0.41  15.14   3.5      3   \n",
      "3      128.954   TW_0089  TW_0094  TW_0094  16.38  0.41  15.14   3.5      2   \n",
      "4      129.076   TW_0094  TW_0094  TW_0094  16.63  0.41  15.14   3.5      1   \n",
      "..         ...       ...      ...      ...    ...   ...    ...   ...    ...   \n",
      "272    126.360   TW_0069  TW_0069  TW_0069  15.26  0.06  12.87   2.2      1   \n",
      "273    126.150   TW_0082  TW_0069  TW_0069  15.90  0.06  12.87   2.2      2   \n",
      "274    126.301   TW_0082  TW_0069  TW_0069  15.90  0.06  12.87   2.2      1   \n",
      "275    126.133   TW_0082  TW_0069  TW_0069  15.90  0.06  12.87   2.2      1   \n",
      "276    126.213   TW_0082  TW_0069  TW_0069  15.90  0.06  12.87   2.2      3   \n",
      "\n",
      "    shower  \n",
      "0        1  \n",
      "1        3  \n",
      "2        1  \n",
      "3        1  \n",
      "4        -  \n",
      "..     ...  \n",
      "272      1  \n",
      "273      -  \n",
      "274      1  \n",
      "275      1  \n",
      "276      3  \n",
      "\n",
      "[277 rows x 17 columns]\n"
     ]
    }
   ],
   "source": [
    "print(data)"
   ]
  },
  {
   "cell_type": "code",
   "execution_count": 27,
   "id": "eec85677",
   "metadata": {},
   "outputs": [],
   "source": [
    "data['score'] = 0.0"
   ]
  },
  {
   "cell_type": "code",
   "execution_count": 28,
   "id": "bb681708",
   "metadata": {
    "scrolled": true
   },
   "outputs": [
    {
     "name": "stderr",
     "output_type": "stream",
     "text": [
      "/var/folders/kk/y4fp8d3s29b997z_9cg0x3nw0000gn/T/ipykernel_41831/3838008466.py:6: SettingWithCopyWarning: \n",
      "A value is trying to be set on a copy of a slice from a DataFrame\n",
      "\n",
      "See the caveats in the documentation: https://pandas.pydata.org/pandas-docs/stable/user_guide/indexing.html#returning-a-view-versus-a-copy\n",
      "  data['score'][i] = float(get_score(wave, wind, wtemp, atemp))\n"
     ]
    }
   ],
   "source": [
    "for i in range(data.shape[0]):\n",
    "    wave = data['wave'][i]\n",
    "    atemp = data['atemp'][i]\n",
    "    wtemp = data['wtemp'][i]\n",
    "    wind = data['wind'][i]\n",
    "    data['score'][i] = float(get_score(wave, wind, wtemp, atemp))"
   ]
  },
  {
   "cell_type": "code",
   "execution_count": 29,
   "id": "6a453c86",
   "metadata": {},
   "outputs": [],
   "source": [
    "data.to_csv(\"최종 원기옥.csv\")"
   ]
  }
 ],
 "metadata": {
  "kernelspec": {
   "display_name": "Python 3 (ipykernel)",
   "language": "python",
   "name": "python3"
  },
  "language_info": {
   "codemirror_mode": {
    "name": "ipython",
    "version": 3
   },
   "file_extension": ".py",
   "mimetype": "text/x-python",
   "name": "python",
   "nbconvert_exporter": "python",
   "pygments_lexer": "ipython3",
   "version": "3.9.7"
  }
 },
 "nbformat": 4,
 "nbformat_minor": 5
}
