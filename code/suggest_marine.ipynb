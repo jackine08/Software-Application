{
 "cells": [
  {
   "cell_type": "code",
   "execution_count": 3,
   "id": "e98fd615",
   "metadata": {},
   "outputs": [],
   "source": [
    "from haversine import haversine\n",
    "import pandas as pd"
   ]
  },
  {
   "cell_type": "code",
   "execution_count": 17,
   "id": "db7b9569",
   "metadata": {},
   "outputs": [],
   "source": [
    "location = (37.1796, 129.0756)\n",
    "distance = 100"
   ]
  },
  {
   "cell_type": "code",
   "execution_count": 36,
   "id": "d133ae14",
   "metadata": {},
   "outputs": [],
   "source": [
    "data = pd.read_csv(\"최종 원기옥.csv\")"
   ]
  },
  {
   "cell_type": "code",
   "execution_count": 41,
   "id": "536453c1",
   "metadata": {},
   "outputs": [],
   "source": [
    "final = data.sort_values('score', ascending=False)"
   ]
  },
  {
   "cell_type": "code",
   "execution_count": 43,
   "id": "ba1d22e5",
   "metadata": {
    "scrolled": true
   },
   "outputs": [],
   "source": [
    "for i in range(final.shape[0]):\n",
    "    t_dist = haversine(location, (final['latitude'][i], final['longitude'][i]))\n",
    "    if(t_dist>distance or final['camp_num'][i] == 0) :\n",
    "        final.drop(i, inplace=True)\n",
    "        "
   ]
  },
  {
   "cell_type": "code",
   "execution_count": 44,
   "id": "65c2eccb",
   "metadata": {
    "scrolled": true
   },
   "outputs": [
    {
     "name": "stdout",
     "output_type": "stream",
     "text": [
      "       지자체  해수욕장명  camp_num toilet shower     score\n",
      "66    강원도     장호          1      2      2  4.526316\n",
      "62     강원도     용화         2      2      1  4.526316\n",
      "134   경상북도   기성망양         1      2      1  4.526316\n",
      "104   경상남도     옥계         3      1      1  4.421053\n",
      "0      강원도     강문         1      2      1  4.421053\n",
      "16     강원도     옥계         3      1      1  4.421053\n",
      "67    강원도    증산           1      2      -  4.421053\n",
      "59     강원도     삼척         2      3      3  4.421053\n",
      "55    강원도     덕산          3      2      2  4.421053\n",
      "86     강원도     원포         2      1      1  4.421053\n",
      "2      강원도     금진         1      3      1  4.421053\n",
      "7      강원도     사천         1      2      1  4.421053\n",
      "14    강원도     염전          1      1      1  4.421053\n",
      "11     강원도     안목         1      2      2  4.421053\n",
      "138   경상북도     후정         1      2      1  4.000000\n",
      "79     강원도     동산         9      1      1  4.000000\n",
      "80     강원도    동산포         1      1      2  4.000000\n",
      "83     강원도     북분         1      2      2  4.000000\n",
      "90     강원도     죽도         2      2      2  4.000000\n",
      "93     강원도    하조대         1      4      2  4.000000\n"
     ]
    }
   ],
   "source": [
    "print(final[['지자체','해수욕장명','camp_num','toilet', 'shower','score']])"
   ]
  }
 ],
 "metadata": {
  "kernelspec": {
   "display_name": "Python 3 (ipykernel)",
   "language": "python",
   "name": "python3"
  },
  "language_info": {
   "codemirror_mode": {
    "name": "ipython",
    "version": 3
   },
   "file_extension": ".py",
   "mimetype": "text/x-python",
   "name": "python",
   "nbconvert_exporter": "python",
   "pygments_lexer": "ipython3",
   "version": "3.9.7"
  }
 },
 "nbformat": 4,
 "nbformat_minor": 5
}
