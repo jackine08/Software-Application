{
 "cells": [
  {
   "cell_type": "code",
   "execution_count": 102,
   "id": "f7bef31a",
   "metadata": {},
   "outputs": [],
   "source": [
    "import requests\n",
    "import pprint\n",
    "import json\n",
    "import pandas as pd\n",
    "# 강원, 전남, 경남, 경북, 충남, 인천 완료"
   ]
  },
  {
   "cell_type": "code",
   "execution_count": 2,
   "id": "c7d0e492",
   "metadata": {},
   "outputs": [],
   "source": [
    "data = pd.read_csv(\"new_data.csv\")"
   ]
  },
  {
   "cell_type": "code",
   "execution_count": 3,
   "id": "9f7dac54",
   "metadata": {},
   "outputs": [],
   "source": [
    "data[\"toilet\"] = 0\n",
    "data[\"shower\"] = 0"
   ]
  },
  {
   "cell_type": "code",
   "execution_count": 4,
   "id": "bfb10d73",
   "metadata": {},
   "outputs": [],
   "source": [
    "kangwon_f = pd.read_csv(\"해수욕장시설물_강원.csv\")"
   ]
  },
  {
   "cell_type": "code",
   "execution_count": 11,
   "id": "68d51e87",
   "metadata": {},
   "outputs": [
    {
     "name": "stdout",
     "output_type": "stream",
     "text": [
      "     Unnamed: 0  Unnamed: 0.1  Unnamed: 0.1.1    지자체  해수욕장명  백사장면적(m2)  \\\n",
      "0             0             0               0    강원도     강문    16,200    \n",
      "1             1             1               1    강원도    경포대   126,000    \n",
      "2             2             2               2    강원도     금진    37,400    \n",
      "3             3             3               3   강원도    남항진     16,450    \n",
      "4             4             4               4   강원도     도직     18,480    \n",
      "..          ...           ...             ...    ...    ...        ...   \n",
      "272         272           272             272   충청남도    장삼포    41,000    \n",
      "273         273           273             273   충청남도    천리포    22,500    \n",
      "274         274           274             274   충청남도    청포대    25,800    \n",
      "275         275           275             275   충청남도    파도리    20,100    \n",
      "276         276           276             276   충청남도    학암포    44,100    \n",
      "\n",
      "     camp_num beach_code  latitude  longitude obs_wtemp obs_wave  obs_air  \\\n",
      "0           1     BCH126    37.794    128.918   TW_0089  TW_0094  TW_0094   \n",
      "1           0     BCH031    37.803    128.910   TW_0089  TW_0094  TW_0094   \n",
      "2           1     BCH138    37.639    129.044   TW_0094  TW_0094  TW_0094   \n",
      "3           0     BCH134    37.764    128.954   TW_0089  TW_0094  TW_0094   \n",
      "4           0     BCH139    37.602    129.076   TW_0094  TW_0094  TW_0094   \n",
      "..        ...        ...       ...        ...       ...      ...      ...   \n",
      "272         0     BCH257    36.422    126.360   TW_0069  TW_0069  TW_0069   \n",
      "273         0     BCH055    36.803    126.150   TW_0082  TW_0069  TW_0069   \n",
      "274         4     BCH258    36.639    126.301   TW_0082  TW_0069  TW_0069   \n",
      "275         1     BCH262    36.739    126.133   TW_0082  TW_0069  TW_0069   \n",
      "276         2     BCH053    36.898    126.213   TW_0082  TW_0069  TW_0069   \n",
      "\n",
      "     wtemp  wave  atemp  wind  toilet  shower  \n",
      "0    16.38  0.41  15.14   3.5       0       0  \n",
      "1    16.38  0.41  15.14   3.5       0       0  \n",
      "2    16.63  0.41  15.14   3.5       0       0  \n",
      "3    16.38  0.41  15.14   3.5       0       0  \n",
      "4    16.63  0.41  15.14   3.5       0       0  \n",
      "..     ...   ...    ...   ...     ...     ...  \n",
      "272   0.00  0.00   0.00   0.0       0       0  \n",
      "273   0.00  0.00   0.00   0.0       0       0  \n",
      "274   0.00  0.00   0.00   0.0       0       0  \n",
      "275   0.00  0.00   0.00   0.0       0       0  \n",
      "276   0.00  0.00   0.00   0.0       0       0  \n",
      "\n",
      "[277 rows x 19 columns]\n"
     ]
    }
   ],
   "source": [
    "print(data)"
   ]
  },
  {
   "cell_type": "code",
   "execution_count": 12,
   "id": "6adac8a0",
   "metadata": {
    "scrolled": true
   },
   "outputs": [
    {
     "name": "stdout",
     "output_type": "stream",
     "text": [
      "Int64Index([272], dtype='int64')\n"
     ]
    }
   ],
   "source": [
    "print(data.index[('장삼포' == data['해수욕장명'])])"
   ]
  },
  {
   "cell_type": "code",
   "execution_count": 26,
   "id": "9f21cdac",
   "metadata": {},
   "outputs": [
    {
     "data": {
      "text/plain": [
       "True"
      ]
     },
     "execution_count": 26,
     "metadata": {},
     "output_type": "execute_result"
    }
   ],
   "source": [
    "data['해수욕장명'].isin([\"경포대\"]).any(0)"
   ]
  },
  {
   "cell_type": "code",
   "execution_count": 24,
   "id": "a5f7666c",
   "metadata": {
    "scrolled": false
   },
   "outputs": [
    {
     "name": "stdout",
     "output_type": "stream",
     "text": [
      "2\n"
     ]
    },
    {
     "name": "stderr",
     "output_type": "stream",
     "text": [
      "/var/folders/kk/y4fp8d3s29b997z_9cg0x3nw0000gn/T/ipykernel_6924/2082229761.py:1: SettingWithCopyWarning: \n",
      "A value is trying to be set on a copy of a slice from a DataFrame\n",
      "\n",
      "See the caveats in the documentation: https://pandas.pydata.org/pandas-docs/stable/user_guide/indexing.html#returning-a-view-versus-a-copy\n",
      "  data['toilet'][275] = 2\n"
     ]
    }
   ],
   "source": [
    "data['toilet'][275] = 2\n",
    "print(data.loc[275]['toilet'])"
   ]
  },
  {
   "cell_type": "code",
   "execution_count": 47,
   "id": "b89d34fd",
   "metadata": {
    "scrolled": true
   },
   "outputs": [
    {
     "name": "stdout",
     "output_type": "stream",
     "text": [
      "True\n"
     ]
    }
   ],
   "source": [
    "print(data['해수욕장명'].str.contains('경포').any())"
   ]
  },
  {
   "cell_type": "code",
   "execution_count": 49,
   "id": "e4ad54d2",
   "metadata": {
    "scrolled": true
   },
   "outputs": [
    {
     "name": "stdout",
     "output_type": "stream",
     "text": [
      "소계\n",
      "소계\n",
      "속초등대\n",
      "소계\n",
      "소계\n",
      "공현1리\n",
      "공현2리\n",
      "문암2\n",
      "화진포콘도\n",
      "소계\n",
      "오산\n",
      "남애1리\n",
      "남애3리\n",
      "지경\n"
     ]
    }
   ],
   "source": [
    "for i in range(4,kangwon_f.shape[0]):\n",
    "    name = kangwon_f.iloc[i][1]\n",
    "    if(data['해수욕장명'].str.contains(name).any()):\n",
    "        idx = data.index[data['해수욕장명'].str.contains(name)][0]\n",
    "        data['toilet'][idx] = kangwon_f.iloc[i][7]\n",
    "        data['shower'][idx] = kangwon_f.iloc[i][6]\n",
    "    else:\n",
    "        print(name)"
   ]
  },
  {
   "cell_type": "code",
   "execution_count": 51,
   "id": "bd43a87b",
   "metadata": {},
   "outputs": [],
   "source": [
    "data.to_csv(\"final_1.csv\")\n",
    "#kangwon done"
   ]
  },
  {
   "cell_type": "code",
   "execution_count": 53,
   "id": "f3ce6c8a",
   "metadata": {},
   "outputs": [],
   "source": [
    "jn = pd.read_csv(\"해수욕장시설물_전남.csv\", encoding='cp949')"
   ]
  },
  {
   "cell_type": "code",
   "execution_count": 56,
   "id": "ebe98e2a",
   "metadata": {},
   "outputs": [
    {
     "name": "stdout",
     "output_type": "stream",
     "text": [
      "    연번    시도  시군구      해수욕장 명                         주소        지정일자 조례 유무  \\\n",
      "0    1  전라남도  목포시     외달도해수욕장           전라남도 목포시 외달도길 72  2004-07-01     Y   \n",
      "1    2  전라남도  여수시     방죽포해수욕장    전라남도 여수시 돌산읍 향일암로 804-6  1998-04-04     Y   \n",
      "2    3  전라남도  여수시     거문도해수욕장       전라남도 여수시 삼산면 거문학교길 3  1998-04-04     Y   \n",
      "3    4  전라남도  여수시      장등해수욕장         전라남도 여수시 화양면 장등길 1  1998-04-04     Y   \n",
      "4    5  전라남도  여수시      안도해수욕장    전라남도 여수시 남면 안도해수욕장길 105  1998-04-04     Y   \n",
      "5    6  전라남도  여수시     만성리해수욕장   전라남도 여수시 만성리길 15-1 (만흥동)  1998-04-04     Y   \n",
      "6    7  전라남도  여수시     무슬목해수욕장      전라남도 여수시 돌산읍 돌산로 2876  1998-04-04     Y   \n",
      "7    8  전라남도  여수시     모사금해수욕장           전라남도 여수시 오천4길 29  1998-04-04     Y   \n",
      "8    9  전라남도  여수시      웅천해수욕장       전라남도 여수시 예울마루로 37-26  2014-06-25     Y   \n",
      "9   10  전라남도  여수시      낭도해수욕장       전남 여수시 화정면 낭도리 573-4         NaN   NaN   \n",
      "10  11  전라남도  고흥군      연소해수욕장      전라남도 고흥군 금산면 연소양지길 70  2014-06-13     Y   \n",
      "11  12  전라남도  고흥군      익금해수욕장      전라남도 고흥군 금산면 익금해변길 40  2004-12-24     Y   \n",
      "12  13  전라남도  고흥군      금장해수욕장     전라남도 고흥군 금산면 금장길 78-26  2014-06-13     Y   \n",
      "13  14  전라남도  고흥군      발포해수욕장      전라남도 고흥군 도화면 천마로 2743  2012-04-23     Y   \n",
      "14  15  전라남도  고흥군    나로우주해수욕장      전라남도 고흥군 봉래면 신금길 30-8  2012-04-23     Y   \n",
      "15  16  전라남도  고흥군      염포해수욕장      전라남도 고흥군 금산면 연소양지길 70  2014-06-13     Y   \n",
      "16  17  전라남도  고흥군      덕흥해수욕장     전라남도 고흥군 동일면 덕흥양쪽길 118  2004-12-24     Y   \n",
      "17  18  전라남도  고흥군   남열해돋이해수욕장      전라남도 고흥군 영남면 해맞이로 680  2008-12-09     Y   \n",
      "18  19  전라남도  고흥군      대전해수욕장      전라남도 고흥군 두원면 두원로 1307  2004-12-24     Y   \n",
      "19  20  전라남도  고흥군      풍류해수욕장     전라남도 고흥군 두원면 풍류로 99-14  2014-06-13     Y   \n",
      "20  21  전라남도  보성군    율포솔밭해수욕장        전라남도 보성군 회천면 우암길 24  2019-06-01     Y   \n",
      "21  22  전라남도  장흥군      수문해수욕장     전라남도 장흥군 안양면 수문용곡로 176  2008-01-10     Y   \n",
      "22  23  전라남도  해남군      송호해수욕장    전라남도 해남군 송지면 땅끝해안로 1827  1989-06-13     Y   \n",
      "23  24  전라남도  해남군     사구미해수욕장    전라남도 해남군 송지면 땅끝해안로 2726  1989-06-13     Y   \n",
      "24  25  전라남도  무안군      홀통해수욕장     전라남도 무안군 현경면 홀통길 198-1  2018-06-05     Y   \n",
      "25  26  전라남도  무안군     톱머리해수욕장       전라남도 무안군 망운면 톱머리길 36  2018-06-05     Y   \n",
      "26  27  전라남도  함평군     돌머리해수욕장       전라남도 함평군 함평읍 주포로 614  2018-06-10     Y   \n",
      "27  28  전라남도  영광군     가마미해수욕장    전라남도 영광군 홍농읍 가마미로 341-6  2013-06-18     Y   \n",
      "28  29  전라남도  영광군     송이도해수욕장         전라남도 영광군 낙월면 송이길 5  2013-06-18     Y   \n",
      "29  30  전라남도  완도군  신지명사십리해수욕장  전라남도 완도군 신지면 명사십리길 85-105  2018-06-19     Y   \n",
      "30  31  전라남도  완도군   신지 동고해수욕장      전라남도 완도군 신지면 신지로 1275  2018-06-19     Y   \n",
      "31  32  전라남도  완도군  금일명사십리해수욕장       전라남도 완도군 금일읍 금일로 888  2018-06-19     Y   \n",
      "32  33  전라남도  완도군   약산 가사해수욕장        전라남도 완도군 약산면 가사길 46  2018-06-19     Y   \n",
      "33  34  전라남도  완도군   청산 지리해수욕장   전라남도 완도군 청산면 청산로 1462-58  2018-06-19     Y   \n",
      "34  35  전라남도  완도군   청산 신흥해수욕장         전라남도 완도군 청산면 동촌길 4  2018-06-19     Y   \n",
      "35  36  전라남도  완도군   보길 예송해수욕장       전라남도 완도군 보길면 예송로 272  2018-06-19     Y   \n",
      "36  37  전라남도  완도군   보길 중리해수욕장    전라남도 완도군 보길면 보길동로 367-1  2018-06-19     Y   \n",
      "37  38  전라남도  완도군   보길 통리해수욕장      전라남도 완도군 보길면 보길동로 239  2018-06-19     Y   \n",
      "38  39  전라남도  완도군   생일 금곡해수욕장      전라남도 완도군 생일면 생일로 1228  2018-06-19     Y   \n",
      "39  40  전라남도  진도군      가계해수욕장     전라남도 진도군 고군면 신비의바닷길 64  2015-07-13     Y   \n",
      "40  41  전라남도  진도군      금갑해수욕장     전라남도 진도군 의신면 금갑길 206-6  2015-07-13     Y   \n",
      "41  42  전라남도  진도군      신전해수욕장   전라남도 진도군 조도면 조도대로 115-19  2015-07-13     Y   \n",
      "42  43  전라남도  진도군     관매도해수욕장       전라남도 진도군 조도면 관매도길 93  2015-07-13     Y   \n",
      "43  44  전라남도  신안군      우전해수욕장    전라남도 신안군 증도면 지도증도로 1684  2008-02-14     N   \n",
      "44  45  전라남도  신안군     짱뚱어해수욕장    전라남도 신안군 증도면 문준경길 459-2  2008-02-14     N   \n",
      "45  46  전라남도  신안군      대광해수욕장   전라남도 신안군 임자면 대광해수욕장길 179  1990-09-26     Y   \n",
      "46  47  전라남도  신안군      분계해수욕장    전라남도 신안군 자은면 자은서부2길 669  2008-02-14     N   \n",
      "47  48  전라남도  신안군      원평해수욕장    전라남도 신안군 비금면 원평해수욕장길 64  2008-02-14     N   \n",
      "48  49  전라남도  신안군      하트해수욕장  전라남도 신안군 비금면 하누넘해수욕장길 247  2008-02-14     N   \n",
      "49  50  전라남도  신안군      시목해수욕장    전라남도 신안군 도초면 시목길 219-27  2008-02-14     N   \n",
      "50  51  전라남도  신안군      돈목해수욕장      전라남도 신안군 도초면 돈목길 33-1  2008-02-14     N   \n",
      "51  52  전라남도  신안군      신도해수욕장       전라남도 신안군 하의면 신도길 163  2008-02-14     N   \n",
      "52  53  전라남도  신안군      추포해수욕장     전라남도 신안군 암태면 추엽길 58-59  2008-02-14     N   \n",
      "53  54  전라남도  신안군    황성금리해수욕장    전라남도 신안군 신의면 하태길 195-17  2008-02-14     N   \n",
      "54  55  전라남도  신안군    배낭기미해수욕장     전라남도 신안군 흑산면 흑산일주로 491  2008-02-14     N   \n",
      "55  56  전라남도  신안군     설레미해수욕장        전라남도 신안군 증도면 우전길 42  2020-06-29     N   \n",
      "\n",
      "    백사장 길이(미터)  백사장 폭(미터)  물놀이 구역 폭(미터)  ...  진료시설  체육시설  판매대여시설  해수풀  공연장  \\\n",
      "0        260.0       30.0         200.0  ...   NaN   NaN     1.0  1.0  NaN   \n",
      "1        165.0       35.0          10.0  ...   NaN   NaN     NaN  NaN  NaN   \n",
      "2        285.0       25.0          10.0  ...   NaN   NaN     NaN  NaN  NaN   \n",
      "3        150.0       15.0          10.0  ...   NaN   NaN     NaN  NaN  NaN   \n",
      "4        255.0       20.0          10.0  ...   NaN   NaN     NaN  NaN  NaN   \n",
      "5        735.0       50.0          10.0  ...   NaN   NaN     NaN  NaN  NaN   \n",
      "6        435.0       20.0          10.0  ...   NaN   NaN     NaN  NaN  NaN   \n",
      "7        225.0       30.0          10.0  ...   NaN   NaN     NaN  NaN  NaN   \n",
      "8        360.0       10.0          10.0  ...   NaN   NaN     NaN  NaN  NaN   \n",
      "9          NaN        NaN           NaN  ...   NaN   NaN     NaN  NaN  NaN   \n",
      "10       600.0       20.0          15.0  ...   NaN   NaN     NaN  NaN  NaN   \n",
      "11       900.0       50.0          40.0  ...   NaN   NaN     NaN  NaN  NaN   \n",
      "12       500.0       20.0          15.0  ...   NaN   NaN     NaN  NaN  NaN   \n",
      "13       300.0       70.0          50.0  ...   NaN   NaN     NaN  NaN  NaN   \n",
      "14       600.0       50.0          30.0  ...   NaN   NaN     NaN  NaN  NaN   \n",
      "15       500.0       30.0          20.0  ...   NaN   NaN     NaN  NaN  NaN   \n",
      "16       500.0       50.0          30.0  ...   NaN   NaN     NaN  NaN  NaN   \n",
      "17       800.0       80.0          50.0  ...   NaN   NaN     NaN  NaN  NaN   \n",
      "18       900.0       70.0          50.0  ...   NaN   NaN     NaN  NaN  NaN   \n",
      "19       500.0       50.0          30.0  ...   NaN   NaN     NaN  NaN  NaN   \n",
      "20       900.0       60.0         100.0  ...   NaN   NaN     NaN  1.0  NaN   \n",
      "21       250.0       35.0          30.0  ...   1.0   1.0     1.0  NaN  NaN   \n",
      "22      1500.0      150.0         110.0  ...   1.0   NaN     NaN  NaN  1.0   \n",
      "23      2000.0      100.0          50.0  ...   NaN   NaN     NaN  NaN  NaN   \n",
      "24       450.0       20.0         400.0  ...   NaN   NaN     NaN  NaN  NaN   \n",
      "25       500.0       20.0         300.0  ...   NaN   NaN     NaN  NaN  NaN   \n",
      "26       900.0       20.0          20.0  ...   1.0   NaN     1.0  NaN  1.0   \n",
      "27      1000.0      200.0         100.0  ...   1.0   NaN     1.0  NaN  1.0   \n",
      "28      1000.0       20.0          20.0  ...   1.0   NaN     NaN  NaN  NaN   \n",
      "29      3800.0      150.0         100.0  ...   1.0   1.0     NaN  NaN  1.0   \n",
      "30      3500.0      250.0          80.0  ...   1.0   NaN     NaN  NaN  NaN   \n",
      "31      1200.0       50.0          60.0  ...   NaN   NaN     NaN  NaN  1.0   \n",
      "32       150.0       50.0          40.0  ...   NaN   NaN     NaN  NaN  NaN   \n",
      "33      1200.0      100.0          65.0  ...   NaN   NaN     NaN  NaN  NaN   \n",
      "34       340.0      200.0         100.0  ...   NaN   NaN     NaN  NaN  NaN   \n",
      "35      1000.0       30.0          60.0  ...   NaN   NaN     NaN  NaN  NaN   \n",
      "36       900.0       50.0          80.0  ...   NaN   NaN     NaN  NaN  NaN   \n",
      "37       800.0       30.0          60.0  ...   NaN   NaN     NaN  NaN  NaN   \n",
      "38       500.0       50.0          60.0  ...   NaN   NaN     NaN  NaN  NaN   \n",
      "39       400.0       70.0          70.0  ...   1.0   1.0     1.0  NaN  1.0   \n",
      "40       300.0      100.0         100.0  ...   1.0   NaN     1.0  NaN  NaN   \n",
      "41       800.0       80.0          80.0  ...   1.0   NaN     1.0  NaN  NaN   \n",
      "42      1200.0      100.0         100.0  ...   1.0   NaN     1.0  NaN  NaN   \n",
      "43       300.0      100.0          80.0  ...   NaN   NaN     1.0  NaN  NaN   \n",
      "44       600.0      100.0          80.0  ...   NaN   NaN     1.0  1.0  NaN   \n",
      "45      1570.0      100.0          80.0  ...   NaN   NaN     1.0  NaN  NaN   \n",
      "46       600.0      100.0          80.0  ...   NaN   NaN     1.0  NaN  NaN   \n",
      "47       730.0      110.0          90.0  ...   NaN   NaN     1.0  NaN  NaN   \n",
      "48       200.0       70.0          60.0  ...   NaN   NaN     1.0  NaN  NaN   \n",
      "49      1070.0       60.0          50.0  ...   NaN   NaN     1.0  NaN  NaN   \n",
      "50       530.0       80.0          70.0  ...   NaN   NaN     1.0  NaN  NaN   \n",
      "51       460.0       50.0          40.0  ...   NaN   NaN     NaN  NaN  NaN   \n",
      "52       600.0       40.0          30.0  ...   NaN   NaN     1.0  NaN  NaN   \n",
      "53       130.0       70.0          60.0  ...   NaN   NaN     NaN  NaN  NaN   \n",
      "54       200.0       30.0          20.0  ...   NaN   NaN     NaN  NaN  NaN   \n",
      "55       416.0       67.0          30.0  ...   NaN   NaN     1.0  NaN  NaN   \n",
      "\n",
      "    체험장  분수대  주차장 크기(제곱미터)  주차장 대수    방문자 수   \n",
      "0   NaN  NaN         500.0      20    6510.0  \n",
      "1   NaN  NaN         600.0     350   19651.0  \n",
      "2   NaN  NaN          50.0      20    1063.0  \n",
      "3   NaN  NaN         100.0      50    9459.0  \n",
      "4   NaN  NaN          50.0      20    2461.0  \n",
      "5   NaN  NaN        1000.0     250   47322.0  \n",
      "6   NaN  NaN        3000.0     100   30264.0  \n",
      "7   NaN  NaN         800.0     200   28368.0  \n",
      "8   NaN  NaN       17053.0     469   38041.0  \n",
      "9   NaN  NaN           NaN     NaN       NaN  \n",
      "10  NaN  NaN         533.0      10    4159.0  \n",
      "11  NaN  NaN        2045.0      24   17384.0  \n",
      "12  NaN  NaN         482.0      12    3166.0  \n",
      "13  NaN  NaN        1912.0      40    8589.0  \n",
      "14  NaN  NaN        7158.0     100    4035.0  \n",
      "15  NaN  NaN         150.0       8    5291.0  \n",
      "16  NaN  NaN         943.0      10    1438.0  \n",
      "17  NaN  NaN        5006.0     300   33307.0  \n",
      "18  NaN  NaN        8145.0     120    9057.0  \n",
      "19  1.0  NaN        1806.0       5    5741.0  \n",
      "20  1.0  NaN       15000.0     500   33700.0  \n",
      "21  NaN  NaN         100.0      30    6056.0  \n",
      "22  NaN  1.0        6402.0     300   20694.0  \n",
      "23  1.0  NaN        3219.0     200       0.0  \n",
      "24  NaN  NaN           NaN     NaN       0.0  \n",
      "25  NaN  NaN           NaN     NaN       0.0  \n",
      "26  1.0  NaN        5500.0     209       0.0  \n",
      "27  NaN  NaN       10000.0     300   20541.0  \n",
      "28  NaN  NaN           NaN     NaN     723.0  \n",
      "29  NaN  NaN       43990.0   2,680  157929.0  \n",
      "30  NaN  NaN         400.0      50    3142.0  \n",
      "31  NaN  NaN         330.0      50       NaN  \n",
      "32  NaN  NaN           NaN     NaN    3083.0  \n",
      "33  NaN  NaN           NaN     NaN    1105.0  \n",
      "34  NaN  NaN           NaN     NaN    2707.0  \n",
      "35  NaN  NaN           NaN     NaN    1181.0  \n",
      "36  NaN  NaN           NaN     NaN    1297.0  \n",
      "37  NaN  NaN           NaN     NaN     420.0  \n",
      "38  NaN  NaN           NaN     NaN    3333.0  \n",
      "39  NaN  NaN       37100.0   2,016   14716.0  \n",
      "40  NaN  NaN        5969.0     324    5622.0  \n",
      "41  NaN  NaN        1174.0      63     663.0  \n",
      "42  NaN  NaN        1688.0      91     778.0  \n",
      "43  NaN  NaN           NaN     NaN   11367.0  \n",
      "44  NaN  NaN        8204.0     270   25700.0  \n",
      "45  NaN  1.0       11808.0     400   37744.0  \n",
      "46  NaN  NaN         500.0      40   17118.0  \n",
      "47  NaN  NaN           NaN     NaN     878.0  \n",
      "48  NaN  NaN         330.0      30       NaN  \n",
      "49  NaN  NaN         600.0      50    2284.0  \n",
      "50  NaN  NaN           NaN     NaN       NaN  \n",
      "51  NaN  NaN           NaN     NaN       NaN  \n",
      "52  NaN  NaN         510.0      40    4837.0  \n",
      "53  NaN  NaN         400.0      30    1504.0  \n",
      "54  NaN  NaN          80.0      10    1160.0  \n",
      "55  NaN  NaN         300.0      90       NaN  \n",
      "\n",
      "[56 rows x 26 columns]\n"
     ]
    }
   ],
   "source": [
    "print(jn)"
   ]
  },
  {
   "cell_type": "code",
   "execution_count": 64,
   "id": "21b96265",
   "metadata": {
    "scrolled": true
   },
   "outputs": [
    {
     "name": "stdout",
     "output_type": "stream",
     "text": [
      "강문\n",
      "경포대\n",
      "금진\n",
      " 남항진 \n",
      " 도직 \n",
      " 등명 \n",
      "사근진\n",
      "사천\n",
      "사천진\n",
      "송정\n",
      "순긋\n",
      "안목\n",
      " 안인 \n",
      "연곡\n",
      " 염전 \n",
      "영진\n",
      "옥계\n",
      "정동진\n",
      "주문진해변\n",
      "하평\n",
      "가진진\n",
      "거진11리\n",
      "거진1리\n",
      "공현진1리\n",
      "공현진2리\n",
      "교암리\n",
      "대진1리\n",
      "대진5리\n",
      "마차진\n",
      "명파리\n",
      "문암진2리\n",
      "문암캠핑장\n",
      "반암리\n",
      "백도\n",
      "봉수대\n",
      "봉포리\n",
      "삼포\n",
      "삼포2리\n",
      "송지호\n",
      "송지호오토캠핑장\n",
      "아야진리\n",
      "자작도\n",
      "천진리\n",
      "청간리\n",
      "초도리\n",
      "켄싱턴리조트\n",
      "화진포\n",
      "화진포 콘도\n",
      "노봉\n",
      " 대진 \n",
      "망상\n",
      "망상리조트\n",
      "어달\n",
      "추암\n",
      " 궁촌 \n",
      " 덕산 \n",
      "맹방\n",
      "문암\n",
      " 부남 \n",
      "삼척\n",
      " 상맹방 \n",
      "오분(간이)\n",
      "용화\n",
      " 임원 \n",
      "작은후진\n",
      " 장호 \n",
      " 증산  \n",
      "하맹방\n",
      " 한재밑 \n",
      "등대\n",
      "속초\n",
      "외옹치\n",
      "갯마을\n",
      "광진\n",
      "기사문\n",
      "낙산\n",
      "남애1\n",
      "남애3\n",
      "동산\n",
      "동산포\n",
      "동호\n",
      "물치\n",
      "북분\n",
      "설악\n",
      "송전\n",
      "원포\n",
      "인구\n",
      "잔교\n",
      "정암\n",
      "죽도\n",
      "중광정\n",
      " 지  경 \n",
      "하조대\n",
      "구영\n",
      "구조라\n",
      "농소\n",
      "덕원\n",
      "덕포\n",
      "망치\n",
      "물안\n",
      "사곡\n",
      "여차\n",
      "옥계\n",
      "와현모래숲\n",
      "죽림\n",
      "학동흑진주몽돌\n",
      "함목\n",
      "황포\n",
      "흥남\n",
      "두곡월포\n",
      "사촌\n",
      "상주은모래비치\n",
      "설리\n",
      "송정솔바람해변\n",
      "남일대\n",
      "광암\n",
      "비진도\n",
      "사량도 대항\n",
      "수륙\n",
      "관성\n",
      "나정\n",
      "봉길대왕암\n",
      "오류\n",
      "전촌\n",
      "경정\n",
      "고래불\n",
      "남호\n",
      "대진\n",
      "오보\n",
      "장사\n",
      "하저\n",
      "구산\n",
      "기성망양\n",
      "나곡\n",
      "망양정\n",
      "봉평\n",
      "후정\n",
      "후포\n",
      "구룡포\n",
      "도구\n",
      "영일대\n",
      "월포\n",
      "칠포\n",
      "화진\n",
      "일광\n",
      "임랑\n",
      "다대포\n",
      "송도\n",
      "광안리\n",
      "송정\n",
      "해운대\n",
      "일산\n",
      "진하\n",
      "떼뿌루\n",
      "서포리\n",
      "수기\n",
      "십리포\n",
      "옹암\n",
      "이일레\n",
      "장경리\n",
      "장골\n",
      "왕산\n",
      "을왕리\n",
      "하나개\n",
      "용동\n",
      "백길\n",
      "홍도\n",
      "유림(거문도)\n",
      "금일 명사십리\n",
      " 사구미 \n",
      "구시포\n",
      "동호\n",
      "선유도\n",
      "격포\n",
      "고사포\n",
      "모항\n",
      "변산\n",
      "위도\n",
      "곽지\n",
      "금능\n",
      "김녕\n",
      "삼양\n",
      "월정\n",
      "이호\n",
      "함덕\n",
      "협재\n",
      " 신양섭지 \n",
      " 중문색달 \n",
      " 표선 \n",
      " 화순금모래 \n",
      "왜목마을\n",
      "난지섬\n",
      "대천\n",
      "무창포\n",
      "춘장대\n",
      "갈음이\n",
      "곰섬\n",
      "구례포\n",
      "구름포\n",
      "기지포\n",
      "꽃지\n",
      "꾸지나무골\n",
      "달산포\n",
      "마검포\n",
      "만리포\n",
      "몽산포\n",
      "바람아래\n",
      "밧개\n",
      " 방주골(백리포) \n",
      "방포\n",
      "백사장\n",
      "삼봉\n",
      "샛별\n",
      "신두리\n",
      "안면\n",
      "어은돌\n",
      "연포\n",
      "의항\n",
      "장삼포\n",
      "천리포\n",
      "청포대\n",
      "파도리\n",
      "학암포\n"
     ]
    },
    {
     "name": "stderr",
     "output_type": "stream",
     "text": [
      "/var/folders/kk/y4fp8d3s29b997z_9cg0x3nw0000gn/T/ipykernel_1655/458723390.py:3: UserWarning: This pattern has match groups. To actually get the groups, use str.extract.\n",
      "  if(jn['해수욕장 명'].str.contains(name).any()):\n"
     ]
    }
   ],
   "source": [
    "for i in range(data.shape[0]):\n",
    "    name = data['해수욕장명'][i]\n",
    "    if(jn['해수욕장 명'].str.contains(name).any()):\n",
    "        idx = jn.index[jn['해수욕장 명'].str.contains(name)][0]\n",
    "        data['toilet'][i] = jn['화장실'][idx]\n",
    "        data['shower'][i] = jn['샤워시설'][idx]\n",
    "    else:\n",
    "        print(name)"
   ]
  },
  {
   "cell_type": "code",
   "execution_count": 65,
   "id": "d46bd1d4",
   "metadata": {},
   "outputs": [],
   "source": [
    "data.to_csv('final_2.csv')\n",
    "#jn done"
   ]
  },
  {
   "cell_type": "code",
   "execution_count": 69,
   "id": "2a2a45f7",
   "metadata": {},
   "outputs": [],
   "source": [
    "kn = pd.read_csv(\"해수욕장시설물_경남.csv\", encoding='cp949')"
   ]
  },
  {
   "cell_type": "code",
   "execution_count": 79,
   "id": "88ec8031",
   "metadata": {},
   "outputs": [
    {
     "data": {
      "text/plain": [
       "0     해수욕장별(1)\n",
       "1     해수욕장별(1)\n",
       "2           합계\n",
       "3           광암\n",
       "4         통영공설\n",
       "5          비진도\n",
       "6           대항\n",
       "7          남일대\n",
       "8         학동몽돌\n",
       "9           명사\n",
       "10         구조라\n",
       "11          덕포\n",
       "12          홍남\n",
       "13          와현\n",
       "14          농소\n",
       "15          황포\n",
       "16          물안\n",
       "17          덕원\n",
       "18        여차몽돌\n",
       "19          함목\n",
       "20          죽림\n",
       "21          옥계\n",
       "22          사곡\n",
       "23          구영\n",
       "24          망치\n",
       "25       상주은모래\n",
       "26       송정솔바람\n",
       "27          사촌\n",
       "28       두곡 월포\n",
       "29          설리\n",
       "Name: 해수욕장별(1), dtype: object"
      ]
     },
     "execution_count": 79,
     "metadata": {},
     "output_type": "execute_result"
    }
   ],
   "source": [
    "kn.iloc[:,0]"
   ]
  },
  {
   "cell_type": "code",
   "execution_count": 84,
   "id": "21d133c7",
   "metadata": {
    "scrolled": true
   },
   "outputs": [
    {
     "name": "stdout",
     "output_type": "stream",
     "text": [
      "송정\n",
      "옥계\n",
      "구영\n",
      "구조라\n",
      "농소\n",
      "덕원\n",
      "덕포\n",
      "망치\n",
      "명사\n",
      "물안\n",
      "사곡\n",
      "여차\n",
      "옥계\n",
      "죽림\n",
      "함목\n",
      "황포\n",
      "사촌\n",
      "설리\n",
      "남일대\n",
      "광암\n",
      "비진도\n",
      "월포\n",
      "송정\n",
      "23\n"
     ]
    },
    {
     "name": "stderr",
     "output_type": "stream",
     "text": [
      "/var/folders/kk/y4fp8d3s29b997z_9cg0x3nw0000gn/T/ipykernel_1655/19368629.py:4: UserWarning: This pattern has match groups. To actually get the groups, use str.extract.\n",
      "  if(kn.iloc[:,0].str.contains(name).any()):\n"
     ]
    }
   ],
   "source": [
    "count = 0\n",
    "for i in range(data.shape[0]):\n",
    "    name = data['해수욕장명'][i]\n",
    "    if(kn.iloc[:,0].str.contains(name).any()):\n",
    "        count +=1\n",
    "        print(name)\n",
    "        idx = kn.index[kn.iloc[:,0].str.contains(name)][0]\n",
    "        data['toilet'][i] = kn.iloc[idx][6]\n",
    "        data['shower'][i] = kn.iloc[idx][5]\n",
    "        \n",
    "print(count)"
   ]
  },
  {
   "cell_type": "code",
   "execution_count": 85,
   "id": "0c0adfab",
   "metadata": {},
   "outputs": [],
   "source": [
    "data.to_csv('final_3.csv')\n",
    "#kn done"
   ]
  },
  {
   "cell_type": "code",
   "execution_count": 86,
   "id": "2bf2ffc7",
   "metadata": {},
   "outputs": [],
   "source": [
    "kb = pd.read_csv(\"해수욕장시설물_경북.csv\", encoding='cp949')"
   ]
  },
  {
   "cell_type": "code",
   "execution_count": 90,
   "id": "53d1d503",
   "metadata": {},
   "outputs": [
    {
     "name": "stdout",
     "output_type": "stream",
     "text": [
      "관성\n",
      "나정\n",
      "오류\n",
      "전촌\n",
      "경정\n",
      "고래불\n",
      "남호\n",
      "대진\n",
      "오보\n",
      "장사\n",
      "하저\n",
      "구산\n",
      "기성망양\n",
      "나곡\n",
      "망양정\n",
      "봉평\n",
      "후정\n",
      "후포\n",
      "구룡포\n",
      "도구\n",
      "영일대\n",
      "월포\n",
      "칠포\n",
      "화진\n",
      "24\n"
     ]
    },
    {
     "name": "stderr",
     "output_type": "stream",
     "text": [
      "/var/folders/kk/y4fp8d3s29b997z_9cg0x3nw0000gn/T/ipykernel_1655/1455221634.py:4: UserWarning: This pattern has match groups. To actually get the groups, use str.extract.\n",
      "  if(kb.iloc[:,0].str.contains(name).any()):\n"
     ]
    }
   ],
   "source": [
    "count = 0\n",
    "for i in range(data.shape[0]):\n",
    "    name = data['해수욕장명'][i]\n",
    "    if(kb.iloc[:,0].str.contains(name).any()):\n",
    "        count +=1\n",
    "        print(name)\n",
    "        idx = kb.index[kb.iloc[:,0].str.contains(name)][0]\n",
    "        data['toilet'][i] = kb.iloc[idx][5]\n",
    "        data['shower'][i] = kb.iloc[idx][4]\n",
    "        \n",
    "print(count)"
   ]
  },
  {
   "cell_type": "code",
   "execution_count": 91,
   "id": "0a6375d9",
   "metadata": {},
   "outputs": [],
   "source": [
    "data.to_csv('final_4.csv')\n",
    "#kb done"
   ]
  },
  {
   "cell_type": "code",
   "execution_count": 93,
   "id": "d37d28f1",
   "metadata": {},
   "outputs": [],
   "source": [
    "cn = pd.read_csv(\"해수욕장시설물_충남.csv\", encoding='cp949')"
   ]
  },
  {
   "cell_type": "code",
   "execution_count": 95,
   "id": "db01a127",
   "metadata": {},
   "outputs": [
    {
     "name": "stdout",
     "output_type": "stream",
     "text": [
      "삼포\n",
      "난지섬\n",
      "대천\n",
      "무창포\n",
      "춘장대\n",
      "갈음이\n",
      "곰섬\n",
      "구례포\n",
      "구름포\n",
      "기지포\n",
      "꽃지\n",
      "꾸지나무골\n",
      "달산포\n",
      "마검포\n",
      "만리포\n",
      "몽산포\n",
      "바람아래\n",
      "밧개\n",
      "방포\n",
      "백사장\n",
      "삼봉\n",
      "샛별\n",
      "신두리\n",
      "안면\n",
      "어은돌\n",
      "연포\n",
      "의항\n",
      "장삼포\n",
      "천리포\n",
      "청포대\n",
      "파도리\n",
      "학암포\n",
      "32\n"
     ]
    },
    {
     "name": "stderr",
     "output_type": "stream",
     "text": [
      "/var/folders/kk/y4fp8d3s29b997z_9cg0x3nw0000gn/T/ipykernel_1655/2735500048.py:4: UserWarning: This pattern has match groups. To actually get the groups, use str.extract.\n",
      "  if(cn.iloc[:,0].str.contains(name).any()):\n"
     ]
    }
   ],
   "source": [
    "count = 0\n",
    "for i in range(data.shape[0]):\n",
    "    name = data['해수욕장명'][i]\n",
    "    if(cn.iloc[:,0].str.contains(name).any()):\n",
    "        count +=1\n",
    "        print(name)\n",
    "        idx = cn.index[cn.iloc[:,0].str.contains(name)][0]\n",
    "        data['toilet'][i] = cn.iloc[idx][6]\n",
    "        data['shower'][i] = cn.iloc[idx][5]\n",
    "        \n",
    "print(count)"
   ]
  },
  {
   "cell_type": "code",
   "execution_count": 97,
   "id": "30ef13d8",
   "metadata": {},
   "outputs": [],
   "source": [
    "data.to_csv('final_5.csv')\n",
    "#cn done"
   ]
  },
  {
   "cell_type": "code",
   "execution_count": 98,
   "id": "d5d67465",
   "metadata": {},
   "outputs": [],
   "source": [
    "ic = pd.read_csv(\"해수욕장시설물_인천.csv\", encoding='cp949')"
   ]
  },
  {
   "cell_type": "code",
   "execution_count": 100,
   "id": "2bc5fe5a",
   "metadata": {},
   "outputs": [
    {
     "name": "stdout",
     "output_type": "stream",
     "text": [
      "떼뿌루\n",
      "서포리\n",
      "수기\n",
      "십리포\n",
      "옹암\n",
      "이일레\n",
      "장경리\n",
      "장골\n",
      "왕산\n",
      "하나개\n",
      "10\n"
     ]
    },
    {
     "name": "stderr",
     "output_type": "stream",
     "text": [
      "/var/folders/kk/y4fp8d3s29b997z_9cg0x3nw0000gn/T/ipykernel_1655/353981444.py:4: UserWarning: This pattern has match groups. To actually get the groups, use str.extract.\n",
      "  if(ic.iloc[:,0].str.contains(name).any()):\n"
     ]
    }
   ],
   "source": [
    "count = 0\n",
    "for i in range(data.shape[0]):\n",
    "    name = data['해수욕장명'][i]\n",
    "    if(ic.iloc[:,0].str.contains(name).any()):\n",
    "        count +=1\n",
    "        print(name)\n",
    "        idx = ic.index[ic.iloc[:,0].str.contains(name)][0]\n",
    "        data['toilet'][i] = ic.iloc[idx][5]\n",
    "        data['shower'][i] = ic.iloc[idx][4]\n",
    "        \n",
    "print(count)"
   ]
  },
  {
   "cell_type": "code",
   "execution_count": 101,
   "id": "0178f622",
   "metadata": {},
   "outputs": [],
   "source": [
    "data.to_csv('final_6.csv')\n",
    "#incheon done"
   ]
  },
  {
   "cell_type": "code",
   "execution_count": 104,
   "id": "b2db3ce7",
   "metadata": {},
   "outputs": [],
   "source": [
    "bs = pd.read_csv(\"해수욕장시설물_부산.csv\", encoding='cp949')"
   ]
  },
  {
   "cell_type": "code",
   "execution_count": 107,
   "id": "08dacf3b",
   "metadata": {},
   "outputs": [
    {
     "name": "stdout",
     "output_type": "stream",
     "text": [
      "송정\n",
      "일광\n",
      "임랑\n",
      "다대포\n",
      "송도\n",
      "광안리\n",
      "송정\n",
      "해운대\n",
      "8\n"
     ]
    },
    {
     "name": "stderr",
     "output_type": "stream",
     "text": [
      "/var/folders/kk/y4fp8d3s29b997z_9cg0x3nw0000gn/T/ipykernel_1655/4011656860.py:4: UserWarning: This pattern has match groups. To actually get the groups, use str.extract.\n",
      "  if(bs.iloc[:,0].str.contains(name).any()):\n"
     ]
    }
   ],
   "source": [
    "count = 0\n",
    "for i in range(data.shape[0]):\n",
    "    name = data['해수욕장명'][i]\n",
    "    if(bs.iloc[:,0].str.contains(name).any()):\n",
    "        count +=1\n",
    "        print(name)\n",
    "        idx = bs.index[bs.iloc[:,0].str.contains(name)][0]\n",
    "        data['toilet'][i] = bs.iloc[idx][4]\n",
    "        data['shower'][i] = bs.iloc[idx][3]\n",
    "        \n",
    "print(count)"
   ]
  },
  {
   "cell_type": "code",
   "execution_count": 109,
   "id": "b6fc422a",
   "metadata": {},
   "outputs": [],
   "source": [
    "data.to_csv('final_7.csv')\n",
    "#busan done"
   ]
  },
  {
   "cell_type": "code",
   "execution_count": 110,
   "id": "b11bd509",
   "metadata": {},
   "outputs": [],
   "source": [
    "jj = pd.read_csv(\"해수욕장시설물_제주.csv\", encoding='cp949')"
   ]
  },
  {
   "cell_type": "code",
   "execution_count": 111,
   "id": "8b153a49",
   "metadata": {},
   "outputs": [
    {
     "name": "stdout",
     "output_type": "stream",
     "text": [
      "곽지\n",
      "금능\n",
      "김녕\n",
      "삼양\n",
      "이호\n",
      "함덕\n",
      "협재\n",
      "7\n"
     ]
    },
    {
     "name": "stderr",
     "output_type": "stream",
     "text": [
      "/var/folders/kk/y4fp8d3s29b997z_9cg0x3nw0000gn/T/ipykernel_1655/482104553.py:4: UserWarning: This pattern has match groups. To actually get the groups, use str.extract.\n",
      "  if(jj.iloc[:,0].str.contains(name).any()):\n"
     ]
    }
   ],
   "source": [
    "count = 0\n",
    "for i in range(data.shape[0]):\n",
    "    name = data['해수욕장명'][i]\n",
    "    if(jj.iloc[:,0].str.contains(name).any()):\n",
    "        count +=1\n",
    "        print(name)\n",
    "        idx = jj.index[jj.iloc[:,0].str.contains(name)][0]\n",
    "        data['toilet'][i] = jj.iloc[idx][6]\n",
    "        data['shower'][i] = jj.iloc[idx][5]\n",
    "        \n",
    "print(count)"
   ]
  },
  {
   "cell_type": "code",
   "execution_count": 112,
   "id": "8596872f",
   "metadata": {},
   "outputs": [],
   "source": [
    "data.to_csv('final_8.csv')\n",
    "#jeju done"
   ]
  },
  {
   "cell_type": "code",
   "execution_count": null,
   "id": "771b0361",
   "metadata": {},
   "outputs": [],
   "source": []
  }
 ],
 "metadata": {
  "kernelspec": {
   "display_name": "Python 3 (ipykernel)",
   "language": "python",
   "name": "python3"
  },
  "language_info": {
   "codemirror_mode": {
    "name": "ipython",
    "version": 3
   },
   "file_extension": ".py",
   "mimetype": "text/x-python",
   "name": "python",
   "nbconvert_exporter": "python",
   "pygments_lexer": "ipython3",
   "version": "3.9.7"
  }
 },
 "nbformat": 4,
 "nbformat_minor": 5
}
