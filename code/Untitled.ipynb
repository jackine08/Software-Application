{
 "cells": [
  {
   "cell_type": "code",
   "execution_count": 15,
   "id": "3a94fc3e",
   "metadata": {},
   "outputs": [],
   "source": [
    "# 라이브러리 import\n",
    "import requests\n",
    "import pprint\n",
    "import json\n",
    "import pandas as pd\n",
    "\n",
    "# url 입력\n",
    "url = 'http://www.khoa.go.kr/api/oceangrid/beach/search.do?'\n",
    "ServiceKey = 'ServiceKey=SQWBYdS0x/t/3jV/vahmAA==&'\n",
    "BeachCode = \"BeachCode=BCH300&\"\n",
    "ResultType = 'ResultType=json'\n",
    "\n",
    "# request_url = url+ServiceKey+ObsCode+Date+ResultType"
   ]
  },
  {
   "cell_type": "code",
   "execution_count": 2,
   "id": "c71fd3cb",
   "metadata": {},
   "outputs": [],
   "source": [
    "csv_save = pd.DataFrame()"
   ]
  },
  {
   "cell_type": "code",
   "execution_count": 16,
   "id": "f7b99a0a",
   "metadata": {},
   "outputs": [
    {
     "name": "stdout",
     "output_type": "stream",
     "text": [
      "http://www.khoa.go.kr/api/oceangrid/beach/search.do?ServiceKey=SQWBYdS0x/t/3jV/vahmAA==&BeachCode=BCH300&ResultType=json\n",
      "                                         result.data  \\\n",
      "0  [{'wind_direct': '남남서', 'water_temp': 16.4, 'w...   \n",
      "\n",
      "  result.meta.obs_post_name result.meta.beach_code result.meta.beach_name  \\\n",
      "0                   경포대해수욕장                 BCH300                   송정해변   \n",
      "\n",
      "  result.meta.obs_last_req_cnt  \n",
      "0                  19999/20000  \n"
     ]
    }
   ],
   "source": [
    "request_url = url+ServiceKey+BeachCode+ResultType\n",
    "print(request_url)\n",
    "response = requests.get(request_url)\n",
    "contents = json.loads(response.text)\n",
    "df = pd.json_normalize(contents)\n",
    "\n",
    "print(df)"
   ]
  },
  {
   "cell_type": "code",
   "execution_count": 14,
   "id": "fc48105e",
   "metadata": {
    "scrolled": false
   },
   "outputs": [
    {
     "name": "stdout",
     "output_type": "stream",
     "text": [
      "                                                data meta.obs_last_req_cnt  \\\n",
      "0  [{'wind_direct': '북', 'obs_time': '2022-11-04 ...           19984/20000   \n",
      "\n",
      "  meta.obs_post_name meta.beach_name meta.beach_code  \n",
      "0            경포대해수욕장            송정해변          BCH300  \n"
     ]
    }
   ],
   "source": [
    "con = contents\n",
    "con = con['result']\n",
    "df = pd.json_normalize(con)\n",
    "df.to_csv(\"marine.csv\")\n",
    "print(df)"
   ]
  },
  {
   "cell_type": "code",
   "execution_count": 18,
   "id": "f69b77f7",
   "metadata": {},
   "outputs": [],
   "source": [
    "qq = pd.read_csv(\"camp_info.csv\",encoding='cp949')"
   ]
  }
 ],
 "metadata": {
  "kernelspec": {
   "display_name": "Python 3 (ipykernel)",
   "language": "python",
   "name": "python3"
  },
  "language_info": {
   "codemirror_mode": {
    "name": "ipython",
    "version": 3
   },
   "file_extension": ".py",
   "mimetype": "text/x-python",
   "name": "python",
   "nbconvert_exporter": "python",
   "pygments_lexer": "ipython3",
   "version": "3.9.7"
  }
 },
 "nbformat": 4,
 "nbformat_minor": 5
}
