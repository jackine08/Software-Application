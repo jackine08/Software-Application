{
 "cells": [
  {
   "cell_type": "code",
   "execution_count": 9,
   "id": "03f1b3e6",
   "metadata": {
    "scrolled": true
   },
   "outputs": [],
   "source": [
    "from tqdm import tqdm\n",
    "from seleniumwire import webdriver\n",
    "from time import sleep\n",
    "import requests\n",
    "import json\n",
    "import pandas as pd\n",
    "from selenium.webdriver.support.ui import WebDriverWait\n",
    "from selenium.webdriver.chrome.options import Options\n",
    "from selenium.webdriver.common.by import By\n",
    "from selenium.webdriver.support import expected_conditions as EC\n",
    "from selenium.webdriver.common.keys import Keys\n",
    "import re\n",
    "\n"
   ]
  },
  {
   "cell_type": "code",
   "execution_count": 31,
   "id": "8fa12ae4",
   "metadata": {},
   "outputs": [],
   "source": [
    "def google_reviews(store_list,gu,count=10):\n",
    "\n",
    "    #드라이버 실행\n",
    "    options = webdriver.ChromeOptions()\n",
    "    options.add_argument(\"user-agent=Mozilla/5.0 (Macintosh; Intel Mac OS X 10_12_6) AppleWebKit/537.36 (KHTML, like Gecko) Chrome/61.0.3163.100 Safari/537.36\")\n",
    "    driver = webdriver.Chrome('./chromedriver',options=options)   #chromedriver 경로 지정!\n",
    "    driver.get('https://www.google.co.kr/maps')\n",
    "    sleep(1)\n",
    "\n",
    "    # 리스트 형식으로 저장된 가게 하나씩 검색\n",
    "    for store in store_list:\n",
    "        count=count\n",
    "        driver.get('https://www.google.co.kr/maps')\n",
    "        result_list=[]\n",
    "        sleep(1)\n",
    "        query_input=driver.find_element(By.ID, 'searchboxinput')\n",
    "        query_input.send_keys(store+gu+'\\n')\n",
    "        \n",
    "        # 의도한 가게와 검색결과가 같은지 확인\n",
    "        sleep(3)\n",
    "        check=input('일치하는 가게를 클릭 후 y를 눌러주세요(이외 멈춤)')\n",
    "        if check.upper()=='Y':\n",
    "            now_url=driver.current_url\n",
    "        else:\n",
    "            break\n",
    "        \n",
    "        # 리뷰로 이동\n",
    "        more_btn=driver.find_element(By.XPATH, '/html/body/div[3]/div[9]/div[9]/div/div/div[1]/div[2]/div/div[1]/div/div/div[25]/div/div[2]/button')\n",
    "        more_btn.click()\n",
    "        views=int(''.join(more_btn.text[2:-1].split(',')))\n",
    "        print(views)\n",
    "        sleep(8)\n",
    "\n",
    "        element = driver.find_element(By.XPATH, '//*[@id=\"QA0Szd\"]/div/div/div[1]/div[2]/div/div[1]/div/div/div[2]')\n",
    "        \n",
    "        for i in range(views//10):\n",
    "            #더보기 클릭\n",
    "            spread_review = driver.find_elements(By.XPATH, '//button[@class=\"w8nwRe kyuRq\"]')\n",
    "            print(len(spread_review))\n",
    "\n",
    "            for j in range(len(spread_review)):\n",
    "                isTrue = spread_review[j].is_displayed()    # 보이는 것인지를 확인\n",
    "                print(\"Element is visible? \" + str(isTrue))\n",
    "                if isTrue:\n",
    "                    spread_review[j].click()\n",
    "                    print(str(j)+\"th more button is clicked and wait 2 secs...\")\n",
    "                    sleep(2)\n",
    "                    \n",
    "            element.send_keys(Keys.END)\n",
    "            sleep(2)\n",
    "        # csv로 저장\n",
    "        df=pd.DataFrame(result_list)\n",
    "        df.to_csv('{}.csv'.format(store))\n",
    "\n",
    "\n"
   ]
  },
  {
   "cell_type": "code",
   "execution_count": 32,
   "id": "a500eabe",
   "metadata": {
    "scrolled": false
   },
   "outputs": [
    {
     "name": "stdout",
     "output_type": "stream",
     "text": [
      "일치하는 가게를 클릭 후 y를 눌러주세요(이외 멈춤)y\n",
      "311\n",
      "2\n",
      "Element is visible? True\n",
      "0th more button is clicked and wait 2 secs...\n",
      "Element is visible? True\n",
      "1th more button is clicked and wait 2 secs...\n",
      "1\n",
      "Element is visible? True\n",
      "0th more button is clicked and wait 2 secs...\n",
      "0\n",
      "0\n",
      "0\n",
      "0\n",
      "0\n",
      "0\n",
      "0\n",
      "0\n",
      "0\n",
      "0\n",
      "0\n",
      "5\n",
      "Element is visible? True\n",
      "0th more button is clicked and wait 2 secs...\n",
      "Element is visible? True\n",
      "1th more button is clicked and wait 2 secs...\n",
      "Element is visible? True\n",
      "2th more button is clicked and wait 2 secs...\n",
      "Element is visible? True\n",
      "3th more button is clicked and wait 2 secs...\n",
      "Element is visible? True\n",
      "4th more button is clicked and wait 2 secs...\n",
      "1\n",
      "Element is visible? True\n",
      "0th more button is clicked and wait 2 secs...\n",
      "0\n",
      "0\n",
      "0\n",
      "0\n",
      "0\n",
      "0\n",
      "0\n",
      "0\n",
      "0\n"
     ]
    },
    {
     "ename": "KeyboardInterrupt",
     "evalue": "",
     "output_type": "error",
     "traceback": [
      "\u001b[0;31m---------------------------------------------------------------------------\u001b[0m",
      "\u001b[0;31mKeyboardInterrupt\u001b[0m                         Traceback (most recent call last)",
      "\u001b[0;32m/var/folders/kk/y4fp8d3s29b997z_9cg0x3nw0000gn/T/ipykernel_50490/4091495705.py\u001b[0m in \u001b[0;36m<module>\u001b[0;34m\u001b[0m\n\u001b[1;32m      2\u001b[0m \u001b[0mstore_list\u001b[0m\u001b[0;34m=\u001b[0m\u001b[0;34m[\u001b[0m\u001b[0;34m'망상'\u001b[0m\u001b[0;34m]\u001b[0m \u001b[0;31m# 가게명 저장\u001b[0m\u001b[0;34m\u001b[0m\u001b[0;34m\u001b[0m\u001b[0m\n\u001b[1;32m      3\u001b[0m \u001b[0;34m\u001b[0m\u001b[0m\n\u001b[0;32m----> 4\u001b[0;31m \u001b[0mgoogle_reviews\u001b[0m\u001b[0;34m(\u001b[0m\u001b[0mstore_list\u001b[0m\u001b[0;34m,\u001b[0m\u001b[0;34m'해수욕장'\u001b[0m\u001b[0;34m,\u001b[0m\u001b[0;36m5\u001b[0m\u001b[0;34m)\u001b[0m \u001b[0;31m#함수 실행\u001b[0m\u001b[0;34m\u001b[0m\u001b[0;34m\u001b[0m\u001b[0m\n\u001b[0m",
      "\u001b[0;32m/var/folders/kk/y4fp8d3s29b997z_9cg0x3nw0000gn/T/ipykernel_50490/745399367.py\u001b[0m in \u001b[0;36mgoogle_reviews\u001b[0;34m(store_list, gu, count)\u001b[0m\n\u001b[1;32m     48\u001b[0m \u001b[0;34m\u001b[0m\u001b[0m\n\u001b[1;32m     49\u001b[0m             \u001b[0melement\u001b[0m\u001b[0;34m.\u001b[0m\u001b[0msend_keys\u001b[0m\u001b[0;34m(\u001b[0m\u001b[0mKeys\u001b[0m\u001b[0;34m.\u001b[0m\u001b[0mEND\u001b[0m\u001b[0;34m)\u001b[0m\u001b[0;34m\u001b[0m\u001b[0;34m\u001b[0m\u001b[0m\n\u001b[0;32m---> 50\u001b[0;31m             \u001b[0msleep\u001b[0m\u001b[0;34m(\u001b[0m\u001b[0;36m2\u001b[0m\u001b[0;34m)\u001b[0m\u001b[0;34m\u001b[0m\u001b[0;34m\u001b[0m\u001b[0m\n\u001b[0m\u001b[1;32m     51\u001b[0m         \u001b[0;31m# csv로 저장\u001b[0m\u001b[0;34m\u001b[0m\u001b[0;34m\u001b[0m\u001b[0m\n\u001b[1;32m     52\u001b[0m         \u001b[0mdf\u001b[0m\u001b[0;34m=\u001b[0m\u001b[0mpd\u001b[0m\u001b[0;34m.\u001b[0m\u001b[0mDataFrame\u001b[0m\u001b[0;34m(\u001b[0m\u001b[0mresult_list\u001b[0m\u001b[0;34m)\u001b[0m\u001b[0;34m\u001b[0m\u001b[0;34m\u001b[0m\u001b[0m\n",
      "\u001b[0;31mKeyboardInterrupt\u001b[0m: "
     ]
    }
   ],
   "source": [
    "# 사용하기\n",
    "store_list=['망상'] # 가게명 저장\n",
    "\n",
    "google_reviews(store_list,'해수욕장',5) #함수 실행"
   ]
  }
 ],
 "metadata": {
  "kernelspec": {
   "display_name": "Python 3 (ipykernel)",
   "language": "python",
   "name": "python3"
  },
  "language_info": {
   "codemirror_mode": {
    "name": "ipython",
    "version": 3
   },
   "file_extension": ".py",
   "mimetype": "text/x-python",
   "name": "python",
   "nbconvert_exporter": "python",
   "pygments_lexer": "ipython3",
   "version": "3.9.7"
  }
 },
 "nbformat": 4,
 "nbformat_minor": 5
}
